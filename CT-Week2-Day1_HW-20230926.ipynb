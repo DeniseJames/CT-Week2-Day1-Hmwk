{
 "cells": [
  {
   "cell_type": "markdown",
   "metadata": {},
   "source": [
    "## Exercise #1 <br>\n",
    "<p>Cube Number Test... Print out all cubed numbers up to the total value 1000. Meaning that if the cubed number is over 1000 break the loop.</p>"
   ]
  },
  {
   "cell_type": "code",
   "execution_count": 5,
   "metadata": {},
   "outputs": [
    {
     "name": "stdout",
     "output_type": "stream",
     "text": [
      "0\n",
      "1\n",
      "8\n",
      "27\n",
      "64\n",
      "125\n",
      "216\n",
      "343\n",
      "512\n",
      "729\n",
      "1000\n"
     ]
    }
   ],
   "source": [
    "\n",
    "for i in range(12):\n",
    "    cubed_number = i * i * i\n",
    "    if cubed_number > 1000:\n",
    "        break\n",
    "    print(cubed_number)\n",
    "       \n",
    "        \n"
   ]
  },
  {
   "cell_type": "markdown",
   "metadata": {},
   "source": [
    "## Exercise #2 <br>\n",
    "<p>Get first prime numbers up to 100</p>"
   ]
  },
  {
   "cell_type": "code",
   "execution_count": 9,
   "metadata": {},
   "outputs": [
    {
     "name": "stdout",
     "output_type": "stream",
     "text": [
      "[2, 3, 5, 7, 11, 13, 17, 19, 23, 29, 31, 37, 41, 43, 47, 53, 59, 61, 67, 71, 73, 79, 83, 89, 97]\n"
     ]
    }
   ],
   "source": [
    "'''\n",
    "The Sieve of Eratosthenes is an ancient algorithm used to find all prime numbers up to a given number n. \n",
    "It was devised by the Greek mathematician Eratosthenes in the 3rd century BCE. The algorithm works by iteratively\n",
    "marking as composite (i.e., not prime) the multiples of each prime, starting from 2.\n",
    "\n",
    "Here's how the Sieve of Eratosthenes works:\n",
    "\n",
    "Create a list is_prime of boolean values indexed from 0 to n initially set to True. Set is_prime[0] and is_prime[1]\n",
    "to False (since 0 and 1 are not primes). Start with the first prime number, which is 2.\n",
    "Mark all the multiples of 2 (except 2 itself) as not prime. \n",
    "That is, is_prime[4], is_prime[6], is_prime[8], etc., will be set to False. \n",
    "Move to the next number that is still marked as prime (in this case, 3), and repeat the process: mark all its \n",
    "multiples (except the number itself) as not prime. Continue this process until you've processed all numbers up to n.\n",
    "At the end of this procedure, the indices of the is_prime list that hold the value True correspond to prime numbers.\n",
    "'''\n",
    "\n",
    "\n",
    "\n",
    "n = 100  # prime numbers up to 100\n",
    "# Create a list of booleans indicating primality\n",
    "# Start with all True, then set 0 and 1 to False since they're not prime\n",
    "is_prime = [True] * (n + 1)\n",
    "is_prime[0], is_prime[1] = False, False\n",
    "\n",
    "p = 2  # Starting with 2, the first prime\n",
    "while p**2 <= n:\n",
    "    if is_prime[p]:\n",
    "        for i in range(p * p, n + 1, p):\n",
    "            is_prime[i] = False\n",
    "    p += 1\n",
    "\n",
    "# To get the list of prime numbers, use list comprehension:\n",
    "primes = [i for i, prime in enumerate(is_prime) if prime]\n",
    "print(primes)  # [2, 3, 5, 7, 11, 13, 17, 19, 23, 29, 31, 37, 41, 43, 47, 53, 59, 61, 67, 71, 73, 79, 83, 89, 97]\n"
   ]
  },
  {
   "cell_type": "markdown",
   "metadata": {},
   "source": [
    "Let's break down the line `for i in range(p*p, n+1, p):` within the context of the Sieve of Eratosthenes algorithm.\n",
    "\n",
    "The purpose of this loop is to mark multiples of the prime number `p` as not prime.\n",
    "\n",
    "Here's the breakdown:\n",
    "\n",
    "1. **`range(p*p, n+1, p)`**:\n",
    "   - This range starts from `p*p` because any smaller multiple of `p` (like `p*2`, `p*3`, etc., up to `p*(p-1)`) would have already been marked off by previous prime numbers. For example, when p is 3, `3*2` would have been marked off as a multiple of 2.\n",
    "   \n",
    "   - It goes up to `n+1` because `range` in Python is exclusive at the end, so `n+1` ensures that `n` is included in the range if it's a multiple of `p`.\n",
    "\n",
    "   - The step is `p`, which means every `p`th number from the start (i.e., `p*p`) will be considered. This allows the loop to iterate over all multiples of `p`.\n",
    "\n",
    "2. **`for i in range(...):`**:\n",
    "   - This loop iterates over each multiple of `p` from `p*p` to `n`. For each of these multiples, the inner part of the loop (not shown in your provided code, but typically something like `is_prime[i] = False`) marks them as not prime.\n",
    "\n",
    "In essence, once a prime `p` is identified, this loop goes through and marks all of its multiples above `p*p` and up to `n` as not prime. This is a core step of the Sieve of Eratosthenes, ensuring that by the end of the algorithm, only prime numbers remain unmarked.\n"
   ]
  },
  {
   "cell_type": "code",
   "execution_count": null,
   "metadata": {},
   "outputs": [],
   "source": []
  },
  {
   "cell_type": "markdown",
   "metadata": {},
   "source": [
    "primes = [i for i, prime in enumerate(is_prime) if prime] explanation:\n",
    "\n",
    "The first i (before the for): This specifies what value will be added to the new list (in this case, the primes list) for each iteration of the loop.\n",
    "\n",
    "The for i (after the first i): This is the loop component of the list comprehension. The variable i iterates over the values generated by the subsequent part of the loop, which in this context is each index from the enumerate(is_prime).\n",
    "\n",
    "So, in the expression:\n",
    "\n",
    "[i for i, prime in enumerate(is_prime) if prime]\n",
    "\n",
    "\n",
    "For every (i, prime) pair from enumerate(is_prime), if prime is True, the corresponding i is added to the resulting list.\n",
    "\n",
    "The pattern [expression for variable in iterable] is a fundamental construct in list comprehensions in Python. The expression is evaluated and added to the resulting list for each variable in the iterable. In this case, the expression is just i, so the value of i itself is added to the list for each iteration that satisfies the condition if prime.\n",
    "\n",
    "\n",
    " "
   ]
  },
  {
   "cell_type": "markdown",
   "metadata": {},
   "source": [
    "# Exercise 3 <br>\n",
    "<p>Take in a users input for their age, if they are younger than 18 print kids, if they're 18 to 65 print adults, else print seniors</p>"
   ]
  },
  {
   "cell_type": "code",
   "execution_count": 3,
   "metadata": {},
   "outputs": [
    {
     "name": "stdout",
     "output_type": "stream",
     "text": [
      "Enter your age: 2\n"
     ]
    }
   ],
   "source": [
    "user_age = input(\"Enter your age: \")\n"
   ]
  },
  {
   "cell_type": "code",
   "execution_count": 4,
   "metadata": {},
   "outputs": [],
   "source": [
    "#user_age =17\n",
    "#user_age =18\n",
    "#user_age =66"
   ]
  },
  {
   "cell_type": "code",
   "execution_count": 5,
   "metadata": {},
   "outputs": [
    {
     "name": "stdout",
     "output_type": "stream",
     "text": [
      "kids\n"
     ]
    }
   ],
   "source": [
    "if  int(user_age) <18:\n",
    "    print('kids')\n",
    "elif  int(user_age) >=18 or user_age<66:    \n",
    "    print('adults')\n",
    "else:\n",
    "    print('seniors')"
   ]
  },
  {
   "cell_type": "code",
   "execution_count": null,
   "metadata": {},
   "outputs": [],
   "source": []
  }
 ],
 "metadata": {
  "kernelspec": {
   "display_name": "Python 3 (ipykernel)",
   "language": "python",
   "name": "python3"
  },
  "language_info": {
   "codemirror_mode": {
    "name": "ipython",
    "version": 3
   },
   "file_extension": ".py",
   "mimetype": "text/x-python",
   "name": "python",
   "nbconvert_exporter": "python",
   "pygments_lexer": "ipython3",
   "version": "3.11.4"
  }
 },
 "nbformat": 4,
 "nbformat_minor": 2
}
